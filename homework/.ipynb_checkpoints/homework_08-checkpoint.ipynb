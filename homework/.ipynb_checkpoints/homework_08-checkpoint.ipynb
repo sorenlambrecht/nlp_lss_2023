{
 "cells": [
  {
   "cell_type": "markdown",
   "metadata": {},
   "source": [
    "# Testing stuff"
   ]
  },
  {
   "cell_type": "code",
   "execution_count": 2,
   "metadata": {},
   "outputs": [
    {
     "name": "stdout",
     "output_type": "stream",
     "text": [
      "(3, 6, 4)\n",
      "(3, 3, 6)\n",
      "torch.Size([3, 6, 3])\n"
     ]
    },
    {
     "data": {
      "text/plain": [
       "torch.Size([3, 3, 6])"
      ]
     },
     "execution_count": 2,
     "metadata": {},
     "output_type": "execute_result"
    }
   ],
   "source": [
    "#intuition in 3d matrix multiplication\n",
    "import numpy as np\n",
    "import torch\n",
    "\n",
    "a = np.random.randint(0, 10, size=(3, 6, 3))\n",
    "b = np.random.randint(0, 10, size=(3, 3, 4))\n",
    "print((a@b).shape)\n",
    "print(np.transpose(a,(0,2,1)).shape)\n",
    "\n",
    "#trying torch\n",
    "print(torch.from_numpy(a).shape)\n",
    "torch.from_numpy(a).transpose(-2,-1).shape"
   ]
  },
  {
   "cell_type": "markdown",
   "metadata": {
    "id": "Rxg_49Pykv4f"
   },
   "source": [
    "# Build a Causal Language Model Using PyTorch\n",
    "In notebook07 we learned how to build a causal language model (GPT) from scratch. In this homework, we will build a Causal Language model with PyTorch, which also supports back-propagation compared to the notebook implementation."
   ]
  },
  {
   "cell_type": "code",
   "execution_count": 3,
   "metadata": {
    "id": "P7zU94KM3shV"
   },
   "outputs": [],
   "source": [
    "import torch\n",
    "import torch.nn as nn\n",
    "from torch.nn import functional as F\n",
    "\n",
    "# hyperparameters\n",
    "batch_size = 16 # how many independent sequences will we process in parallel?\n",
    "block_size = 32 # what is the maximum context length for predictions?\n",
    "max_iters = 1000 #CHANGED 1000\n",
    "printer = False #CHANGED none\n",
    "eval_interval = 100\n",
    "learning_rate = 1e-3\n",
    "device = 'cuda' if torch.cuda.is_available() else 'cpu'\n",
    "eval_iters = 200\n",
    "n_embd = 64\n",
    "n_head = 4\n",
    "n_layer = 4\n",
    "dropout = 0.0\n",
    "# ------------"
   ]
  },
  {
   "cell_type": "markdown",
   "metadata": {
    "id": "S9wkGm3c4exk"
   },
   "source": [
    "We are going to train our GPT on this corpus"
   ]
  },
  {
   "cell_type": "code",
   "execution_count": 4,
   "metadata": {
    "colab": {
     "base_uri": "https://localhost:8080/"
    },
    "id": "QVXpPsyg35Kn",
    "outputId": "dd5fe498-2055-467c-f81a-66f6ed492e3f"
   },
   "outputs": [
    {
     "name": "stdout",
     "output_type": "stream",
     "text": [
      "--2023-05-11 11:31:02--  https://raw.githubusercontent.com/karpathy/char-rnn/master/data/tinyshakespeare/input.txt\n",
      "Resolving raw.githubusercontent.com (raw.githubusercontent.com)... 185.199.108.133, 185.199.109.133, 185.199.111.133, ...\n",
      "Connecting to raw.githubusercontent.com (raw.githubusercontent.com)|185.199.108.133|:443... connected.\n",
      "HTTP request sent, awaiting response... 200 OK\n",
      "Length: 1115394 (1.1M) [text/plain]\n",
      "Saving to: 'input.txt.5'\n",
      "\n",
      "input.txt.5         100%[===================>]   1.06M   318KB/s    in 3.4s    \n",
      "\n",
      "2023-05-11 11:31:05 (318 KB/s) - 'input.txt.5' saved [1115394/1115394]\n",
      "\n",
      "First Citizen:\n",
      "Before we proceed any further, hear me speak.\n",
      "\n",
      "All:\n",
      "Speak, speak.\n",
      "\n",
      "First Citizen:\n",
      "You are all resolved rather to die than to famish?\n",
      "\n",
      "All:\n",
      "Resolved. resolved.\n",
      "\n",
      "First Citizen:\n",
      "First, you know Caius Marcius is chief enemy to the people.\n",
      "\n",
      "All:\n",
      "We know't, we know't.\n",
      "\n",
      "First Citizen:\n",
      "Let us kill him, and we'll have corn at our own price.\n",
      "Is't a verdict?\n",
      "\n",
      "All:\n",
      "No more talking on't; let it be done: away, away!\n",
      "\n",
      "Second Citizen:\n",
      "One word, good citizens.\n",
      "\n",
      "First Citizen:\n",
      "We are accounted poor citizens, the patricians good.\n",
      "What authority surfeits on would relieve us: if they\n",
      "would yield us but the superfluity, while it were\n",
      "wholesome, we might guess they relieved us humanely;\n",
      "but they think we are too dear: the leanness that\n",
      "afflicts us, the object of our misery, is as an\n",
      "inventory to particularise their abundance; our\n",
      "sufferance is a gain to them Let us revenge this with\n",
      "our pikes, ere we become rakes: for the gods know I\n",
      "speak this in hunger for bread, not in thirst for revenge.\n",
      "\n",
      "\n"
     ]
    }
   ],
   "source": [
    "!wget https://raw.githubusercontent.com/karpathy/char-rnn/master/data/tinyshakespeare/input.txt\n",
    "with open('input.txt', 'r', encoding='utf-8') as f:\n",
    "    text = f.read()\n",
    "\n",
    "print(text[:1000])"
   ]
  },
  {
   "cell_type": "markdown",
   "metadata": {
    "id": "zh4FqwhvGLFb"
   },
   "source": [
    "For simplicity, character-level tokenization is applied here instead of learning a new BPE tokenizer"
   ]
  },
  {
   "cell_type": "code",
   "execution_count": 5,
   "metadata": {
    "id": "bhh1K4sD4lxG"
   },
   "outputs": [],
   "source": [
    "# here are all the unique characters that occur in this text\n",
    "chars = sorted(list(set(text)))\n",
    "vocab_size = len(chars)\n",
    "# create a mapping from characters to integers\n",
    "stoi = { ch:i for i,ch in enumerate(chars) }\n",
    "itos = { i:ch for i,ch in enumerate(chars) }\n",
    "encode = lambda s: [stoi[c] for c in s] # encoder: take a string, output a list of integers\n",
    "decode = lambda l: ''.join([itos[i] for i in l]) # decoder: take a list of integers, output a string\n",
    "\n",
    "# Train and test splits\n",
    "data = torch.tensor(encode(text), dtype=torch.long)\n",
    "n = int(0.9*len(data)) # first 90% will be train, rest val\n",
    "train_data = data[:n]\n",
    "val_data = data[n:]\n",
    "\n",
    "# data loading\n",
    "def get_batch(split):\n",
    "    # generate a small batch of data of inputs x and targets y\n",
    "    data = train_data if split == 'train' else val_data\n",
    "    ix = torch.randint(len(data) - block_size, (batch_size,))\n",
    "    x = torch.stack([data[i:i+block_size] for i in ix])\n",
    "    y = torch.stack([data[i+1:i+block_size+1] for i in ix])\n",
    "    x, y = x.to(device), y.to(device)\n",
    "    return x, y\n"
   ]
  },
  {
   "cell_type": "markdown",
   "metadata": {
    "id": "pL_gJtvIHcXK"
   },
   "source": [
    "### TODO1: Single-head Attention Implementation"
   ]
  },
  {
   "cell_type": "code",
   "execution_count": 6,
   "metadata": {},
   "outputs": [],
   "source": [
    "#this is how i thought it should be but cant solve dimensionality\n",
    "\n",
    "class Head_initial(nn.Module):\n",
    "    \"\"\" one head of self-attention \"\"\"\n",
    "\n",
    "    def __init__(self, head_size):\n",
    "        super().__init__()\n",
    "        #Does not make sense to me to output 16 as last dim, when we'd like to plit that further\n",
    "        self.key = nn.Linear(n_embd, head_size, bias=False) #head_size is later set to 16\n",
    "        self.query = nn.Linear(n_embd, head_size, bias=False)\n",
    "        self.value = nn.Linear(n_embd, head_size, bias=False)\n",
    "        # register_buffer simply adds self.tril as a non-paramter buffer in this nn.Module\n",
    "        self.register_buffer('tril', torch.tril(torch.ones(block_size, block_size)))\n",
    "        self.dropout = nn.Dropout(dropout)\n",
    "        self.softmax = nn.Softmax(dim=-1)\n",
    "        self.head_size = head_size\n",
    "\n",
    "    def forward(self, x):\n",
    "        #example from notebook -> softmax(q @ k.T / np.sqrt(q.shape[-1])) @ v\n",
    "        # calculate query, key, and value\n",
    "        #trying to split into heads\n",
    "        batch_size = x.shape[0]\n",
    "        \n",
    "        print('input: ', x.shape)\n",
    "        \n",
    "        #print('x shape: ', x.shape) -> torch.Size([16, 32, 64]) Linear -> torch.Size([16, 32, 64])\n",
    "        q = self.query(x) #.view(batch_size, -1, block_size, self.head_size) # [.,.,32, 16] -> 4 heads\n",
    "        k = self.key(x) #.view(batch_size, -1, block_size, self.head_size) \n",
    "        v = self.value(x) #.view(batch_size, -1, block_size, self.head_size)\n",
    "        \n",
    "        print('q: ', q.shape)\n",
    "        \n",
    "        \n",
    "        # calculate attention scores USING numpy here...\n",
    "        scores_1 = torch.matmul(q, k.transpose(-2, -1)) / np.sqrt(q.shape[-1]) #-> torch.Size([.,., 32, 32])\n",
    "        \n",
    "        print('score_1 : ', scores_1.shape)\n",
    "        \n",
    "        print('block_size: ', block_size)\n",
    "        # apply \n",
    "        scores_2 = scores_1.masked_fill(self.tril == 0, float('-inf')) # mask is [32,32]\n",
    "        \n",
    "        print('score_2 : ', scores_2.shape)\n",
    "        \n",
    "        scores_3 = self.softmax(scores_2)\n",
    "        \n",
    "        print('score_3 : ', scores_3.shape)\n",
    "        # apply dropout\n",
    "        scores_4 = self.dropout(scores_3)\n",
    "        #print('score_2 : ', scores.shape) -> torch.Size([16, 32, 32])\n",
    "        print('score_4 : ', scores_4.shape)\n",
    "        print('v: ', v.shape)\n",
    "        \n",
    "        #final attention\n",
    "        output = torch.matmul(scores_4, v) #[.,.,32,16]\n",
    "        \n",
    "        print('output: ', output.shape)\n",
    "        #\"concat\" stuff maybe need contiguous()\n",
    "        #output = output.view(-1, block_size, n_embd) #[.,32,16] [16, 32, 64]\n",
    "        # return output\n",
    "        return output\n",
    "    \n",
    "    # TODO: fill in the forward pass for single-head attention\n",
    "    # hint1 can use self.tril\n",
    "    # hint2 can use masked_fill\n",
    "    # Todo hint3 concatinate heads somehow --> getting only nan..."
   ]
  },
  {
   "cell_type": "code",
   "execution_count": 7,
   "metadata": {},
   "outputs": [],
   "source": [
    "#clean version where dimensions fit but result is not what it should be...\n",
    "import math\n",
    "\n",
    "class Head(nn.Module):\n",
    "    \"\"\" one head of self-attention \"\"\"\n",
    "\n",
    "    def __init__(self, head_size):\n",
    "        super().__init__()\n",
    "        self.key = nn.Linear(n_embd, head_size, bias=False)\n",
    "        self.query = nn.Linear(n_embd, head_size, bias=False)\n",
    "        self.value = nn.Linear(n_embd, head_size, bias=False)\n",
    "        self.register_buffer('tril', torch.tril(torch.ones(block_size, block_size)))\n",
    "        self.dropout = nn.Dropout(dropout)\n",
    "        self.softmax = nn.Softmax(dim=-1)\n",
    "        self.head_size = head_size\n",
    "\n",
    "    def forward(self, x):\n",
    "        batch_size = x.shape[0]\n",
    "        q = self.query(x) \n",
    "        k = self.key(x) \n",
    "        v = self.value(x)\n",
    "        attention_weights = torch.matmul(q, k.transpose(-2, -1)) / math.sqrt(self.head_size)\n",
    "        \n",
    "        #to make the dimesnions fit in generating but results are bad...\n",
    "        mask = self.tril[:attention_weights.size(-2), :attention_weights.size(-1)]\n",
    "        attention_weights = attention_weights.masked_fill(mask == 0, float('-inf')) \n",
    "        attention_weights = self.softmax(attention_weights)\n",
    "        attention_weights = self.dropout(attention_weights)\n",
    "        output = torch.matmul(attention_weights, v)\n",
    "        return output\n"
   ]
  },
  {
   "cell_type": "markdown",
   "metadata": {
    "id": "O9PDdtZCIvAB"
   },
   "source": [
    "### Multi-head attention and feed forward layer implementations"
   ]
  },
  {
   "cell_type": "code",
   "execution_count": 8,
   "metadata": {
    "id": "VwoaebhhIoQw"
   },
   "outputs": [],
   "source": [
    "class MultiHeadAttention(nn.Module):\n",
    "    \"\"\" multiple heads of self-attention in parallel \"\"\"\n",
    "\n",
    "    def __init__(self, num_heads, head_size):\n",
    "        super().__init__()\n",
    "        #USING Head() here\n",
    "        self.heads = nn.ModuleList([Head(head_size) for _ in range(num_heads)])\n",
    "        self.proj = nn.Linear(n_embd, n_embd)\n",
    "        self.dropout = nn.Dropout(dropout)\n",
    "\n",
    "    def forward(self, x):\n",
    "        out = torch.cat([h(x) for h in self.heads], dim=-1)\n",
    "        out = self.dropout(self.proj(out))\n",
    "        return out\n",
    "\n",
    "class FeedFoward(nn.Module):\n",
    "    \"\"\" a simple linear layer followed by a non-linearity \"\"\"\n",
    "\n",
    "    def __init__(self, n_embd):\n",
    "        super().__init__()\n",
    "        self.net = nn.Sequential(\n",
    "            nn.Linear(n_embd, 4 * n_embd),\n",
    "            nn.ReLU(),\n",
    "            nn.Linear(4 * n_embd, n_embd),\n",
    "            nn.Dropout(dropout),\n",
    "        )\n",
    "\n",
    "    def forward(self, x):\n",
    "        return self.net(x)"
   ]
  },
  {
   "cell_type": "markdown",
   "metadata": {
    "id": "CBSMLdl5I-GJ"
   },
   "source": [
    "### TODO2: Transformer Block Implementation"
   ]
  },
  {
   "cell_type": "code",
   "execution_count": 9,
   "metadata": {
    "id": "ggI9pHGSI-aS"
   },
   "outputs": [],
   "source": [
    "class Block(nn.Module):\n",
    "    \"\"\" Transformer block: communication followed by computation \"\"\"\n",
    "\n",
    "    def __init__(self, n_embd, n_head):\n",
    "        # n_embd: embedding dimension, n_head: the number of heads we'd like\n",
    "        super().__init__()\n",
    "        head_size = n_embd // n_head\n",
    "        self.sa = MultiHeadAttention(n_head, head_size)\n",
    "        self.ffwd = FeedFoward(n_embd)\n",
    "        self.ln1 = nn.LayerNorm(n_embd)\n",
    "        self.ln2 = nn.LayerNorm(n_embd)\n",
    "\n",
    "    def forward(self, x):\n",
    "        # TODO: fill in the forward pass\n",
    "        #attention\n",
    "        sa = self.sa(x)\n",
    "        x = self.ln1(x + sa)\n",
    "        \n",
    "        #MLP\n",
    "        ffwd = self.ffwd(x)\n",
    "        x = self.ln2(x + ffwd)\n",
    "        \n",
    "        # Hint: don't forget the residual connections\n",
    "        return x"
   ]
  },
  {
   "cell_type": "markdown",
   "metadata": {
    "id": "uiSY9oQLJnzE"
   },
   "source": [
    "### Language Model Implementation."
   ]
  },
  {
   "cell_type": "code",
   "execution_count": 10,
   "metadata": {
    "id": "LNMoB0I9JWnt"
   },
   "outputs": [],
   "source": [
    "class LanguageModel(nn.Module):\n",
    "\n",
    "    def __init__(self):\n",
    "        super().__init__()\n",
    "        # each token directly reads off the logits for the next token from a lookup table\n",
    "        self.token_embedding_table = nn.Embedding(vocab_size, n_embd)\n",
    "        self.position_embedding_table = nn.Embedding(block_size, n_embd)\n",
    "        #USING block here\n",
    "        self.blocks = nn.Sequential(*[Block(n_embd, n_head=n_head) for _ in range(n_layer)])\n",
    "        self.ln_f = nn.LayerNorm(n_embd) # final layer norm\n",
    "        self.lm_head = nn.Linear(n_embd, vocab_size)\n",
    "\n",
    "    def forward(self, idx, targets=None):\n",
    "        B, T = idx.shape\n",
    "\n",
    "        # idx and targets are both (B,T) tensor of integers\n",
    "        tok_emb = self.token_embedding_table(idx) # (B,T,C)\n",
    "        pos_emb = self.position_embedding_table(torch.arange(T, device=device)) # (T,C)\n",
    "        x = tok_emb + pos_emb # (B,T,C)\n",
    "        x = self.blocks(x) # (B,T,C)\n",
    "        x = self.ln_f(x) # (B,T,C)\n",
    "        logits = self.lm_head(x) # (B,T,vocab_size)\n",
    "\n",
    "        if targets is None:\n",
    "            loss = None\n",
    "        else:\n",
    "            B, T, C = logits.shape\n",
    "            logits = logits.view(B*T, C)\n",
    "            targets = targets.view(B*T)\n",
    "            loss = F.cross_entropy(logits, targets)\n",
    "\n",
    "        return logits, loss\n",
    "\n",
    "    def generate(self, idx, max_new_tokens):\n",
    "        # idx is (B, T) array of indices in the current context\n",
    "        for _ in range(max_new_tokens):\n",
    "            # crop idx to the last block_size tokens\n",
    "            idx_cond = idx[:, -block_size:]\n",
    "            # get the predictions\n",
    "            logits, loss = self(idx_cond)\n",
    "            # focus only on the last time step\n",
    "            logits = logits[:, -1, :] # becomes (B, C)\n",
    "            # apply softmax to get probabilities\n",
    "            probs = F.softmax(logits, dim=-1) # (B, C)\n",
    "            # sample from the distribution\n",
    "            idx_next = torch.multinomial(probs, num_samples=1) # (B, 1)\n",
    "            # append sampled index to the running sequence\n",
    "            idx = torch.cat((idx, idx_next), dim=1) # (B, T+1)\n",
    "        return idx"
   ]
  },
  {
   "cell_type": "code",
   "execution_count": 11,
   "metadata": {
    "colab": {
     "base_uri": "https://localhost:8080/"
    },
    "id": "M99dsYCOMUfx",
    "outputId": "236d1721-ba2e-4c88-ebb8-14dfe629c97c"
   },
   "outputs": [
    {
     "name": "stdout",
     "output_type": "stream",
     "text": [
      "0.209729 M parameters\n",
      "step 0: train loss 4.3079, val loss 4.3129\n",
      "step 100: train loss 2.6438, val loss 2.6605\n",
      "step 200: train loss 2.4744, val loss 2.4767\n",
      "step 300: train loss 2.3897, val loss 2.3970\n",
      "step 400: train loss 2.3284, val loss 2.3330\n",
      "step 500: train loss 2.2604, val loss 2.2641\n",
      "step 600: train loss 2.2128, val loss 2.2264\n",
      "step 700: train loss 2.1599, val loss 2.1857\n",
      "step 800: train loss 2.1326, val loss 2.1654\n",
      "step 900: train loss 2.0783, val loss 2.1193\n",
      "step 999: train loss 2.0446, val loss 2.0904\n",
      "\n",
      "As andry.\n",
      "\n",
      "CIFUS:\n",
      "PrI, My bearysisentrand and preaded meathe,-monge herend:\n",
      "Sharse thatist Bucke but thal's shis a and bensrest Cacce?\n",
      "Ahtims, II thasm impe, fols your in our beaunther thouste for thince I the\n",
      "Aas ndeave sand my winch-merocing and, Senter oftle buce a thising\n",
      "Thall wituch baitenss, and as and troo in Butrvids.\n",
      "\n",
      "YOMEOUS:\n",
      "Shis ye feorfor swilsess's rigers.\n",
      "\n",
      "PSERDY:\n",
      "MEOrs, to I of ily bing, me of fur!\n",
      "\n",
      "FRUSTEDY:\n",
      "ThaS jorse, proorser: hould thou arn,\n",
      "And vreaten is them'in frersting tooke stnem'eare.\n",
      "\n",
      "LAENE:\n",
      "\n",
      "Cacke,'Bless, wit the our the wand,\n",
      "I in them goreine he limem folly?\n",
      "\n",
      "This Mecky Onown:\n",
      "Tore le, hiss a merEgate, that un cortiors,\n",
      "Thilwh Lit slirneeal.\n",
      "\n",
      "WEOBUK:\n",
      "Of then I mill wherers oo anc fors the repulorle meale brover tae whourtere me anvering of Gakentuser\n",
      "oner rinessiveres extimessed tinesss onourssed in yourmen, enetrymen:\n",
      "Aull willentien: buckay my Mureng, in\n",
      "Nor Letingfessleriese to cly pelestinesicwing upont in merToore with th andeF wark is list'd:\n",
      "And wart gard fish: camy, and mactemon by ecough.\n",
      "\n",
      "Shourdnd:\n",
      "Waity thyist baity dost, whand mes hererse oul my\n",
      "worekelive ance stered falfer, my sby wasturang gords me whearirinks!\n",
      "Theiouguls worcousty':\n",
      "Farch shice de:\n",
      "Aut sthas qup hisp fevs manLit omens extous ust morcownating: me row.\n",
      "\n",
      "RuSespy abwerers:\n",
      "Bay that a pranst, fuchtleint.\n",
      "\n",
      "ALINEN CASS:\n",
      "Tor:\n",
      "De sord, seld, tyaine, rardter, that reak daraunise.\n",
      "\n",
      "GHENP:\n",
      "SAnuREES:\n",
      "My mireng' a werertly in tull rersetirnfeang thous no forr the heall sherve his preacops.\n",
      "\n",
      "Sthis onell, preadeace: in this thansle flord,\n",
      "rim whall noth youme in\n",
      "an Med streectn: Haver browne ank's 'pis of nowner broves,\n",
      "Than me be foore whahther, warell in thy upure oners,\n",
      "Ord shount and dhi:\n",
      "Oruc combulionely bemiot'\n",
      "No and ont thou sbay our an a!owht arme?\n",
      "\n",
      "Thondenosegoods.\n",
      "\n",
      "QUEESTIZ:\n",
      "Oure; the am may your thoare greft in aurens there me yourve:\n",
      "In in wing acongendter ared his sperbe\n",
      "Blayfornnemilink on sarin: he drucess lentury in in mursfort\n",
      "That thou thou wuck o\n"
     ]
    }
   ],
   "source": [
    "@torch.no_grad()\n",
    "def estimate_loss():\n",
    "    out = {}\n",
    "    model.eval()\n",
    "    for split in ['train', 'val']:\n",
    "        losses = torch.zeros(eval_iters)\n",
    "        for k in range(eval_iters):\n",
    "            X, Y = get_batch(split)\n",
    "            logits, loss = model(X, Y)\n",
    "            losses[k] = loss.item()\n",
    "        out[split] = losses.mean()\n",
    "    model.train()\n",
    "    return out\n",
    "\n",
    "model = LanguageModel()\n",
    "m = model.to(device)\n",
    "# print the number of parameters in the model\n",
    "print(sum(p.numel() for p in m.parameters())/1e6, 'M parameters')\n",
    "\n",
    "# create a PyTorch optimizer\n",
    "optimizer = torch.optim.AdamW(model.parameters(), lr=learning_rate)\n",
    "\n",
    "for iter in range(max_iters):\n",
    "\n",
    "    # every once in a while evaluate the loss on train and val sets\n",
    "    if iter % eval_interval == 0 or iter == max_iters - 1:\n",
    "        losses = estimate_loss()\n",
    "        print(f\"step {iter}: train loss {losses['train']:.4f}, val loss {losses['val']:.4f}\")\n",
    "\n",
    "    # sample a batch of data\n",
    "    xb, yb = get_batch('train')\n",
    "\n",
    "    # evaluate the loss\n",
    "    printer = True # CHANGED\n",
    "    \n",
    "    logits, loss = model(xb, yb)\n",
    "    optimizer.zero_grad(set_to_none=True)\n",
    "    loss.backward()\n",
    "    optimizer.step()\n",
    "\n",
    "# generate from the model\n",
    "\n",
    "context = torch.zeros((1, 1), dtype=torch.long, device=device)\n",
    "print(decode(m.generate(context, max_new_tokens=2000)[0].tolist()))"
   ]
  },
  {
   "cell_type": "code",
   "execution_count": null,
   "metadata": {},
   "outputs": [],
   "source": []
  }
 ],
 "metadata": {
  "colab": {
   "provenance": []
  },
  "kernelspec": {
   "display_name": "Python 3 (ipykernel)",
   "language": "python",
   "name": "python3"
  },
  "language_info": {
   "codemirror_mode": {
    "name": "ipython",
    "version": 3
   },
   "file_extension": ".py",
   "mimetype": "text/x-python",
   "name": "python",
   "nbconvert_exporter": "python",
   "pygments_lexer": "ipython3",
   "version": "3.8.8"
  }
 },
 "nbformat": 4,
 "nbformat_minor": 1
}
